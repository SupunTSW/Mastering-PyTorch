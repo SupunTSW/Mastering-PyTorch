{
  "nbformat": 4,
  "nbformat_minor": 0,
  "metadata": {
    "colab": {
      "provenance": [],
      "authorship_tag": "ABX9TyMdHgiEC6Mz6tlm3hYw1AX4",
      "include_colab_link": true
    },
    "kernelspec": {
      "name": "python3",
      "display_name": "Python 3"
    },
    "language_info": {
      "name": "python"
    }
  },
  "cells": [
    {
      "cell_type": "markdown",
      "metadata": {
        "id": "view-in-github",
        "colab_type": "text"
      },
      "source": [
        "<a href=\"https://colab.research.google.com/github/SupunTSW/Mastering-PyTorch/blob/main/06_Optimization_Loop.ipynb\" target=\"_parent\"><img src=\"https://colab.research.google.com/assets/colab-badge.svg\" alt=\"Open In Colab\"/></a>"
      ]
    },
    {
      "cell_type": "markdown",
      "source": [
        "##Optimization Model Parameters"
      ],
      "metadata": {
        "id": "WoGTmgQVQTk4"
      }
    },
    {
      "cell_type": "code",
      "execution_count": 3,
      "metadata": {
        "colab": {
          "base_uri": "https://localhost:8080/"
        },
        "id": "sO3gjT0zP3KX",
        "outputId": "7c885758-6b90-49a6-8836-79025f322f23"
      },
      "outputs": [
        {
          "output_type": "stream",
          "name": "stderr",
          "text": [
            "100%|██████████| 26.4M/26.4M [00:01<00:00, 19.1MB/s]\n",
            "100%|██████████| 29.5k/29.5k [00:00<00:00, 303kB/s]\n",
            "100%|██████████| 4.42M/4.42M [00:00<00:00, 5.51MB/s]\n",
            "100%|██████████| 5.15k/5.15k [00:00<00:00, 8.28MB/s]\n"
          ]
        }
      ],
      "source": [
        "import torch\n",
        "from torch import nn\n",
        "from torch.utils.data import DataLoader\n",
        "from torchvision import datasets\n",
        "from torchvision.transforms import ToTensor\n",
        "\n",
        "training_data = datasets.FashionMNIST(root=\"data\", train=True, download=True, transform=ToTensor())\n",
        "test_data = datasets.FashionMNIST(root=\"data\", train=False, download=True, transform=ToTensor())\n",
        "\n",
        "train_dataloader = DataLoader(training_data, batch_size=64)\n",
        "test_dataloader = DataLoader(test_data, batch_size = 64)\n",
        "\n",
        "\n",
        "class NeuralNetwork(nn.Module):\n",
        "    def __init__(self):\n",
        "        super().__init__()\n",
        "        self.flatten = nn.Flatten()\n",
        "        self.linear_relu_stack = nn.Sequential(\n",
        "            nn.Linear(28*28, 512),\n",
        "            nn.ReLU(),\n",
        "            nn.Linear(512, 512),\n",
        "            nn.ReLU(),\n",
        "            nn.Linear(512, 10),\n",
        "        )\n",
        "\n",
        "    def forward(self, x):\n",
        "        x = self.flatten(x)\n",
        "        logits = self.linear_relu_stack(x)\n",
        "        return logits\n",
        "\n",
        "model = NeuralNetwork()"
      ]
    },
    {
      "cell_type": "markdown",
      "source": [
        "##Hyperparameters"
      ],
      "metadata": {
        "id": "JLcjLtumR88M"
      }
    },
    {
      "cell_type": "code",
      "source": [
        "learning_rate = 1e-3\n",
        "batch_size = 64\n",
        "epochs = 5"
      ],
      "metadata": {
        "id": "-qcySpsFRv5P"
      },
      "execution_count": 4,
      "outputs": []
    },
    {
      "cell_type": "markdown",
      "source": [
        "##Optimization Loop"
      ],
      "metadata": {
        "id": "9FPP4fedSb2e"
      }
    },
    {
      "cell_type": "code",
      "source": [
        "#Initialize the loss function\n",
        "loss_fn = nn.CrossEntropyLoss()"
      ],
      "metadata": {
        "id": "q4cavj-8SXxP"
      },
      "execution_count": 5,
      "outputs": []
    },
    {
      "cell_type": "code",
      "source": [
        "#Optimizer\n",
        "optimizer = torch.optim.SGD(model.parameters(), lr=learning_rate )"
      ],
      "metadata": {
        "id": "bezUcGFETMSJ"
      },
      "execution_count": 6,
      "outputs": []
    },
    {
      "cell_type": "markdown",
      "source": [
        "##Full Implementation"
      ],
      "metadata": {
        "id": "MnsNbGJJUOC8"
      }
    },
    {
      "cell_type": "code",
      "source": [
        "def train_loop(dataLoader, model, loss_fn, optimizer):\n",
        "  size = len(dataLoader.dataset)\n",
        "\n",
        "  model.train()\n",
        "  for batch, (x,y) in enumerate(dataLoader):\n",
        "    #compute prediction and loss\n",
        "    pred = model(x)\n",
        "    loss = loss_fn(pred,y)\n",
        "\n",
        "    #Backpropagation\n",
        "    loss.backward()\n",
        "    optimizer.step()\n",
        "    optimizer.zero_grad()\n",
        "\n",
        "    if batch % 100 == 0:\n",
        "      loss, current = loss.item(), batch * batch_size + len(x)\n",
        "      print(f\"loss: {loss:>7f} [{current:>5d}/{size:>5d}]\")\n",
        "\n",
        "def test_loop(dataLoader, model, loss_fn):\n",
        "  model.eval()\n",
        "  size = len(dataLoader.dataset)\n",
        "  num_batches = len(dataLoader)\n",
        "  test_loss, correct = 0, 0\n",
        "\n",
        "  with torch.no_grad():\n",
        "    for x,y in dataLoader:\n",
        "      pred = model(x)\n",
        "      test_loss += loss_fn(pred, y).item()\n",
        "      correct += (pred.argmax(1) == y).type(torch.float).sum().item()\n",
        "\n",
        "  test_loss /= num_batches\n",
        "  correct /= size\n",
        "  print(f\"Test Error: \\n Accuracy: {(100*correct):>0.1f}%, Avg loss: {test_loss:>8f} \\n\")"
      ],
      "metadata": {
        "id": "LjSBUvddTuDW"
      },
      "execution_count": 7,
      "outputs": []
    },
    {
      "cell_type": "code",
      "source": [
        "loss_fn = nn.CrossEntropyLoss()\n",
        "optimizer = torch.optim.SGD(model.parameters(), lr=learning_rate)\n",
        "\n",
        "epochs = 10\n",
        "for t in range(epochs):\n",
        "  print(f\"Epoch {t+1}\\n------------------------------\")\n",
        "  train_loop(train_dataloader, model, loss_fn, optimizer)\n",
        "  test_loop(test_dataloader, model, loss_fn)\n",
        "print(\"Done!\")"
      ],
      "metadata": {
        "colab": {
          "base_uri": "https://localhost:8080/"
        },
        "id": "e4-ajGuhWtoD",
        "outputId": "dff8c176-dab2-4665-a20b-32e945d71ccb"
      },
      "execution_count": 8,
      "outputs": [
        {
          "output_type": "stream",
          "name": "stdout",
          "text": [
            "Epoch 1\n",
            "------------------------------\n",
            "loss: 2.308036 [   64/60000]\n",
            "loss: 2.286292 [ 6464/60000]\n",
            "loss: 2.268705 [12864/60000]\n",
            "loss: 2.265753 [19264/60000]\n",
            "loss: 2.236603 [25664/60000]\n",
            "loss: 2.213455 [32064/60000]\n",
            "loss: 2.218605 [38464/60000]\n",
            "loss: 2.187846 [44864/60000]\n",
            "loss: 2.195170 [51264/60000]\n",
            "loss: 2.149143 [57664/60000]\n",
            "Test Error: \n",
            " Accuracy: 47.8%, Avg loss: 2.146274 \n",
            "\n",
            "Epoch 2\n",
            "------------------------------\n",
            "loss: 2.162416 [   64/60000]\n",
            "loss: 2.147586 [ 6464/60000]\n",
            "loss: 2.086709 [12864/60000]\n",
            "loss: 2.110264 [19264/60000]\n",
            "loss: 2.050872 [25664/60000]\n",
            "loss: 1.983723 [32064/60000]\n",
            "loss: 2.022713 [38464/60000]\n",
            "loss: 1.939992 [44864/60000]\n",
            "loss: 1.958738 [51264/60000]\n",
            "loss: 1.869259 [57664/60000]\n",
            "Test Error: \n",
            " Accuracy: 56.7%, Avg loss: 1.871904 \n",
            "\n",
            "Epoch 3\n",
            "------------------------------\n",
            "loss: 1.910451 [   64/60000]\n",
            "loss: 1.875000 [ 6464/60000]\n",
            "loss: 1.753874 [12864/60000]\n",
            "loss: 1.807412 [19264/60000]\n",
            "loss: 1.686326 [25664/60000]\n",
            "loss: 1.624380 [32064/60000]\n",
            "loss: 1.664809 [38464/60000]\n",
            "loss: 1.554564 [44864/60000]\n",
            "loss: 1.591106 [51264/60000]\n",
            "loss: 1.476660 [57664/60000]\n",
            "Test Error: \n",
            " Accuracy: 61.7%, Avg loss: 1.495822 \n",
            "\n",
            "Epoch 4\n",
            "------------------------------\n",
            "loss: 1.563896 [   64/60000]\n",
            "loss: 1.523784 [ 6464/60000]\n",
            "loss: 1.371068 [12864/60000]\n",
            "loss: 1.458847 [19264/60000]\n",
            "loss: 1.330186 [25664/60000]\n",
            "loss: 1.313814 [32064/60000]\n",
            "loss: 1.341593 [38464/60000]\n",
            "loss: 1.256235 [44864/60000]\n",
            "loss: 1.299317 [51264/60000]\n",
            "loss: 1.198772 [57664/60000]\n",
            "Test Error: \n",
            " Accuracy: 64.2%, Avg loss: 1.223981 \n",
            "\n",
            "Epoch 5\n",
            "------------------------------\n",
            "loss: 1.301325 [   64/60000]\n",
            "loss: 1.277902 [ 6464/60000]\n",
            "loss: 1.108717 [12864/60000]\n",
            "loss: 1.233061 [19264/60000]\n",
            "loss: 1.103241 [25664/60000]\n",
            "loss: 1.115552 [32064/60000]\n",
            "loss: 1.150112 [38464/60000]\n",
            "loss: 1.077204 [44864/60000]\n",
            "loss: 1.123292 [51264/60000]\n",
            "loss: 1.044530 [57664/60000]\n",
            "Test Error: \n",
            " Accuracy: 65.1%, Avg loss: 1.060800 \n",
            "\n",
            "Epoch 6\n",
            "------------------------------\n",
            "loss: 1.131667 [   64/60000]\n",
            "loss: 1.128192 [ 6464/60000]\n",
            "loss: 0.942231 [12864/60000]\n",
            "loss: 1.096323 [19264/60000]\n",
            "loss: 0.967175 [25664/60000]\n",
            "loss: 0.985801 [32064/60000]\n",
            "loss: 1.034965 [38464/60000]\n",
            "loss: 0.967086 [44864/60000]\n",
            "loss: 1.013150 [51264/60000]\n",
            "loss: 0.950725 [57664/60000]\n",
            "Test Error: \n",
            " Accuracy: 66.1%, Avg loss: 0.958310 \n",
            "\n",
            "Epoch 7\n",
            "------------------------------\n",
            "loss: 1.017222 [   64/60000]\n",
            "loss: 1.033200 [ 6464/60000]\n",
            "loss: 0.831333 [12864/60000]\n",
            "loss: 1.007074 [19264/60000]\n",
            "loss: 0.881648 [25664/60000]\n",
            "loss: 0.896505 [32064/60000]\n",
            "loss: 0.959826 [38464/60000]\n",
            "loss: 0.897216 [44864/60000]\n",
            "loss: 0.939429 [51264/60000]\n",
            "loss: 0.888571 [57664/60000]\n",
            "Test Error: \n",
            " Accuracy: 67.2%, Avg loss: 0.889573 \n",
            "\n",
            "Epoch 8\n",
            "------------------------------\n",
            "loss: 0.934107 [   64/60000]\n",
            "loss: 0.967821 [ 6464/60000]\n",
            "loss: 0.753280 [12864/60000]\n",
            "loss: 0.945100 [19264/60000]\n",
            "loss: 0.824415 [25664/60000]\n",
            "loss: 0.832636 [32064/60000]\n",
            "loss: 0.906543 [38464/60000]\n",
            "loss: 0.851109 [44864/60000]\n",
            "loss: 0.887170 [51264/60000]\n",
            "loss: 0.843912 [57664/60000]\n",
            "Test Error: \n",
            " Accuracy: 68.4%, Avg loss: 0.840520 \n",
            "\n",
            "Epoch 9\n",
            "------------------------------\n",
            "loss: 0.870557 [   64/60000]\n",
            "loss: 0.918992 [ 6464/60000]\n",
            "loss: 0.695425 [12864/60000]\n",
            "loss: 0.899670 [19264/60000]\n",
            "loss: 0.783676 [25664/60000]\n",
            "loss: 0.785515 [32064/60000]\n",
            "loss: 0.865681 [38464/60000]\n",
            "loss: 0.818954 [44864/60000]\n",
            "loss: 0.848174 [51264/60000]\n",
            "loss: 0.809781 [57664/60000]\n",
            "Test Error: \n",
            " Accuracy: 69.7%, Avg loss: 0.803311 \n",
            "\n",
            "Epoch 10\n",
            "------------------------------\n",
            "loss: 0.819773 [   64/60000]\n",
            "loss: 0.879847 [ 6464/60000]\n",
            "loss: 0.650391 [12864/60000]\n",
            "loss: 0.864664 [19264/60000]\n",
            "loss: 0.752715 [25664/60000]\n",
            "loss: 0.749555 [32064/60000]\n",
            "loss: 0.832392 [38464/60000]\n",
            "loss: 0.795157 [44864/60000]\n",
            "loss: 0.817709 [51264/60000]\n",
            "loss: 0.782000 [57664/60000]\n",
            "Test Error: \n",
            " Accuracy: 70.9%, Avg loss: 0.773533 \n",
            "\n",
            "Done!\n"
          ]
        }
      ]
    },
    {
      "cell_type": "code",
      "source": [],
      "metadata": {
        "id": "dIgiuX0fXbQr"
      },
      "execution_count": null,
      "outputs": []
    }
  ]
}